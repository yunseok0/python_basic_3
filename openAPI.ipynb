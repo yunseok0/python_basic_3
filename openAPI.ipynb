{
 "cells": [
  {
   "cell_type": "markdown",
   "id": "bc641b44",
   "metadata": {
    "id": "bc641b44"
   },
   "source": [
    "# 1.OpenAPI을 이용하여 데이터 수집"
   ]
  },
  {
   "cell_type": "code",
   "execution_count": 9,
   "id": "aaa1f1eb-c493-4947-aa0e-e12117198d54",
   "metadata": {},
   "outputs": [
    {
     "name": "stdout",
     "output_type": "stream",
     "text": [
      "Request successful\n"
     ]
    }
   ],
   "source": [
    "import requests\n",
    "import pandas as pd\n",
    "import json\n",
    "\n",
    "#1. 타겟 사이트 url\n",
    "url = \"http://data4library.kr/api/loanItemSrch?format=json&startDt=2023-01-01&endDt=2023-12-30&age=20&authKey=\"\n",
    "# 2. 페이지 로딩\n",
    "res = requests.get(url)\n",
    "\n",
    "if res.status_code == 200:\n",
    "    print(\"Request successful\")\n",
    "else:\n",
    "    print(\"Error:\", res.status_code)\n",
    "    \n",
    "# print(res.text)\n",
    "\n",
    "# # # Decode binary content to UTF-8 string\n",
    "# # content_str = res.content.decode('utf-8')\n",
    "\n",
    "# # 3. Parse the JSON data\n",
    "data = json.loads(res.text)\n",
    "# # data = json.loads(content_str)\n",
    "\n",
    "\n",
    "# 4. Print the parsed JSON data\n",
    "# print(data)\n",
    "\n",
    "# 5. ETL\n",
    "# # 5-1 데이터 추출\n",
    "books = []\n",
    "for d in data['response']['docs']:\n",
    "    books.append(d['doc'])\n",
    "\n",
    "# print(books[0])\n",
    "# # books = [d['doc'] for d in data['response']['docs']] # list complrehension\n",
    "\n",
    "# 5-2 리스트을 이용하여  데이터프레임 생성:  list -> DataFrame\n",
    "books_df = pd.DataFrame(books)\n",
    "\n",
    "books_df.head(2)\n",
    "\n",
    "# 5-3 dataFrame 객체을 json 파일로 저장\n",
    "books_df.to_json('20s_best_book_2023.json')\n",
    "\n"
   ]
  },
  {
   "cell_type": "markdown",
   "id": "792f44fb",
   "metadata": {
    "id": "792f44fb"
   },
   "source": [
    "## 2. Open API을 활용한 데이터셋 가공 작업 :  \"20대가 가장 좋아하는 도서목록\""
   ]
  },
  {
   "cell_type": "code",
   "execution_count": 10,
   "id": "6128a3fd",
   "metadata": {
    "colab": {
     "base_uri": "https://localhost:8080/",
     "height": 417
    },
    "id": "6128a3fd",
    "outputId": "89201b65-e66b-4af8-9af2-aad8cfe88706"
   },
   "outputs": [
    {
     "data": {
      "text/html": [
       "<div>\n",
       "<style scoped>\n",
       "    .dataframe tbody tr th:only-of-type {\n",
       "        vertical-align: middle;\n",
       "    }\n",
       "\n",
       "    .dataframe tbody tr th {\n",
       "        vertical-align: top;\n",
       "    }\n",
       "\n",
       "    .dataframe thead th {\n",
       "        text-align: right;\n",
       "    }\n",
       "</style>\n",
       "<table border=\"1\" class=\"dataframe\">\n",
       "  <thead>\n",
       "    <tr style=\"text-align: right;\">\n",
       "      <th></th>\n",
       "      <th>no</th>\n",
       "      <th>ranking</th>\n",
       "      <th>bookname</th>\n",
       "      <th>authors</th>\n",
       "      <th>publisher</th>\n",
       "      <th>publication_year</th>\n",
       "      <th>isbn13</th>\n",
       "      <th>addition_symbol</th>\n",
       "      <th>vol</th>\n",
       "      <th>class_no</th>\n",
       "      <th>class_nm</th>\n",
       "      <th>loan_count</th>\n",
       "      <th>bookImageURL</th>\n",
       "      <th>bookDtlUrl</th>\n",
       "    </tr>\n",
       "  </thead>\n",
       "  <tbody>\n",
       "    <tr>\n",
       "      <th>0</th>\n",
       "      <td>1</td>\n",
       "      <td>1</td>\n",
       "      <td>물고기는 존재하지 않는다 :상실, 사랑 그리고 숨어 있는 삶의 질서에 관한 이야기</td>\n",
       "      <td>룰루 밀러 지음 ;정지인 옮김</td>\n",
       "      <td>곰출판</td>\n",
       "      <td>2021</td>\n",
       "      <td>9791189327156</td>\n",
       "      <td>03400</td>\n",
       "      <td></td>\n",
       "      <td>490.99</td>\n",
       "      <td>자연과학 &gt; 동물학 &gt; 동물학</td>\n",
       "      <td>5907</td>\n",
       "      <td>https://image.aladin.co.kr/product/28465/73/co...</td>\n",
       "      <td>https://data4library.kr/bookV?seq=6360937</td>\n",
       "    </tr>\n",
       "    <tr>\n",
       "      <th>1</th>\n",
       "      <td>2</td>\n",
       "      <td>2</td>\n",
       "      <td>지구 끝의 온실 :김초엽 장편소설</td>\n",
       "      <td>지은이: 김초엽</td>\n",
       "      <td>Giant Books(자이언트북스)</td>\n",
       "      <td>2021</td>\n",
       "      <td>9791191824001</td>\n",
       "      <td>03810</td>\n",
       "      <td></td>\n",
       "      <td>813.7</td>\n",
       "      <td>문학 &gt; 한국문학 &gt; 소설</td>\n",
       "      <td>5186</td>\n",
       "      <td>https://image.aladin.co.kr/product/27692/63/co...</td>\n",
       "      <td>https://data4library.kr/bookV?seq=6065686</td>\n",
       "    </tr>\n",
       "    <tr>\n",
       "      <th>2</th>\n",
       "      <td>3</td>\n",
       "      <td>3</td>\n",
       "      <td>불편한 편의점 :김호연 장편소설</td>\n",
       "      <td>지은이: 김호연</td>\n",
       "      <td>나무옆의자</td>\n",
       "      <td>2021</td>\n",
       "      <td>9791161571188</td>\n",
       "      <td>03810</td>\n",
       "      <td></td>\n",
       "      <td>813.7</td>\n",
       "      <td>문학 &gt; 한국문학 &gt; 소설</td>\n",
       "      <td>5131</td>\n",
       "      <td>https://image.aladin.co.kr/product/26942/84/co...</td>\n",
       "      <td>https://data4library.kr/bookV?seq=5962217</td>\n",
       "    </tr>\n",
       "    <tr>\n",
       "      <th>3</th>\n",
       "      <td>4</td>\n",
       "      <td>4</td>\n",
       "      <td>달러구트 꿈 백화점 :이미예 장편소설</td>\n",
       "      <td>지은이: 이미예</td>\n",
       "      <td>팩토리나인</td>\n",
       "      <td>2020</td>\n",
       "      <td>9791165341909</td>\n",
       "      <td>03810</td>\n",
       "      <td></td>\n",
       "      <td>813.7</td>\n",
       "      <td>문학 &gt; 한국문학 &gt; 소설</td>\n",
       "      <td>5085</td>\n",
       "      <td>https://image.aladin.co.kr/product/24512/70/co...</td>\n",
       "      <td>https://data4library.kr/bookV?seq=5707051</td>\n",
       "    </tr>\n",
       "    <tr>\n",
       "      <th>4</th>\n",
       "      <td>5</td>\n",
       "      <td>5</td>\n",
       "      <td>우리가 빛의 속도로 갈 수 없다면 :김초엽 소설</td>\n",
       "      <td>지은이: 김초엽</td>\n",
       "      <td>허블</td>\n",
       "      <td>2019</td>\n",
       "      <td>9791190090018</td>\n",
       "      <td>03810</td>\n",
       "      <td></td>\n",
       "      <td>813.7</td>\n",
       "      <td>문학 &gt; 한국문학 &gt; 소설</td>\n",
       "      <td>4730</td>\n",
       "      <td>https://image.aladin.co.kr/product/19359/16/co...</td>\n",
       "      <td>https://data4library.kr/bookV?seq=5430429</td>\n",
       "    </tr>\n",
       "  </tbody>\n",
       "</table>\n",
       "</div>"
      ],
      "text/plain": [
       "   no  ranking                                        bookname  \\\n",
       "0   1        1  물고기는 존재하지 않는다 :상실, 사랑 그리고 숨어 있는 삶의 질서에 관한 이야기    \n",
       "1   2        2                             지구 끝의 온실 :김초엽 장편소설    \n",
       "2   3        3                              불편한 편의점 :김호연 장편소설    \n",
       "3   4        4                            달러구트 꿈 백화점 :이미예 장편소설   \n",
       "4   5        5                     우리가 빛의 속도로 갈 수 없다면 :김초엽 소설    \n",
       "\n",
       "            authors            publisher  publication_year         isbn13  \\\n",
       "0  룰루 밀러 지음 ;정지인 옮김                  곰출판              2021  9791189327156   \n",
       "1          지은이: 김초엽  Giant Books(자이언트북스)              2021  9791191824001   \n",
       "2          지은이: 김호연                나무옆의자              2021  9791161571188   \n",
       "3          지은이: 이미예                팩토리나인              2020  9791165341909   \n",
       "4          지은이: 김초엽                   허블              2019  9791190090018   \n",
       "\n",
       "  addition_symbol vol class_no          class_nm  loan_count  \\\n",
       "0           03400       490.99  자연과학 > 동물학 > 동물학        5907   \n",
       "1           03810        813.7    문학 > 한국문학 > 소설        5186   \n",
       "2           03810        813.7    문학 > 한국문학 > 소설        5131   \n",
       "3           03810        813.7    문학 > 한국문학 > 소설        5085   \n",
       "4           03810        813.7    문학 > 한국문학 > 소설        4730   \n",
       "\n",
       "                                        bookImageURL  \\\n",
       "0  https://image.aladin.co.kr/product/28465/73/co...   \n",
       "1  https://image.aladin.co.kr/product/27692/63/co...   \n",
       "2  https://image.aladin.co.kr/product/26942/84/co...   \n",
       "3  https://image.aladin.co.kr/product/24512/70/co...   \n",
       "4  https://image.aladin.co.kr/product/19359/16/co...   \n",
       "\n",
       "                                  bookDtlUrl  \n",
       "0  https://data4library.kr/bookV?seq=6360937  \n",
       "1  https://data4library.kr/bookV?seq=6065686  \n",
       "2  https://data4library.kr/bookV?seq=5962217  \n",
       "3  https://data4library.kr/bookV?seq=5707051  \n",
       "4  https://data4library.kr/bookV?seq=5430429  "
      ]
     },
     "execution_count": 10,
     "metadata": {},
     "output_type": "execute_result"
    }
   ],
   "source": [
    "# 1. json file 로딩 -> dataFrame 객체 변환\n",
    "books_df = pd.read_json('20s_best_book_2023.json')\n",
    "books_df.head()"
   ]
  },
  {
   "cell_type": "code",
   "execution_count": 12,
   "id": "2c3b1962",
   "metadata": {
    "colab": {
     "base_uri": "https://localhost:8080/",
     "height": 206
    },
    "id": "2c3b1962",
    "outputId": "3a8da6a5-3968-42fc-95ff-4ed83f0901a2"
   },
   "outputs": [
    {
     "data": {
      "text/html": [
       "<div>\n",
       "<style scoped>\n",
       "    .dataframe tbody tr th:only-of-type {\n",
       "        vertical-align: middle;\n",
       "    }\n",
       "\n",
       "    .dataframe tbody tr th {\n",
       "        vertical-align: top;\n",
       "    }\n",
       "\n",
       "    .dataframe thead th {\n",
       "        text-align: right;\n",
       "    }\n",
       "</style>\n",
       "<table border=\"1\" class=\"dataframe\">\n",
       "  <thead>\n",
       "    <tr style=\"text-align: right;\">\n",
       "      <th></th>\n",
       "      <th>no</th>\n",
       "      <th>ranking</th>\n",
       "      <th>bookname</th>\n",
       "      <th>authors</th>\n",
       "      <th>publisher</th>\n",
       "      <th>publication_year</th>\n",
       "      <th>isbn13</th>\n",
       "    </tr>\n",
       "  </thead>\n",
       "  <tbody>\n",
       "    <tr>\n",
       "      <th>0</th>\n",
       "      <td>1</td>\n",
       "      <td>1</td>\n",
       "      <td>물고기는 존재하지 않는다 :상실, 사랑 그리고 숨어 있는 삶의 질서에 관한 이야기</td>\n",
       "      <td>룰루 밀러 지음 ;정지인 옮김</td>\n",
       "      <td>곰출판</td>\n",
       "      <td>2021</td>\n",
       "      <td>9791189327156</td>\n",
       "    </tr>\n",
       "    <tr>\n",
       "      <th>1</th>\n",
       "      <td>2</td>\n",
       "      <td>2</td>\n",
       "      <td>지구 끝의 온실 :김초엽 장편소설</td>\n",
       "      <td>지은이: 김초엽</td>\n",
       "      <td>Giant Books(자이언트북스)</td>\n",
       "      <td>2021</td>\n",
       "      <td>9791191824001</td>\n",
       "    </tr>\n",
       "    <tr>\n",
       "      <th>2</th>\n",
       "      <td>3</td>\n",
       "      <td>3</td>\n",
       "      <td>불편한 편의점 :김호연 장편소설</td>\n",
       "      <td>지은이: 김호연</td>\n",
       "      <td>나무옆의자</td>\n",
       "      <td>2021</td>\n",
       "      <td>9791161571188</td>\n",
       "    </tr>\n",
       "    <tr>\n",
       "      <th>3</th>\n",
       "      <td>4</td>\n",
       "      <td>4</td>\n",
       "      <td>달러구트 꿈 백화점 :이미예 장편소설</td>\n",
       "      <td>지은이: 이미예</td>\n",
       "      <td>팩토리나인</td>\n",
       "      <td>2020</td>\n",
       "      <td>9791165341909</td>\n",
       "    </tr>\n",
       "    <tr>\n",
       "      <th>4</th>\n",
       "      <td>5</td>\n",
       "      <td>5</td>\n",
       "      <td>우리가 빛의 속도로 갈 수 없다면 :김초엽 소설</td>\n",
       "      <td>지은이: 김초엽</td>\n",
       "      <td>허블</td>\n",
       "      <td>2019</td>\n",
       "      <td>9791190090018</td>\n",
       "    </tr>\n",
       "  </tbody>\n",
       "</table>\n",
       "</div>"
      ],
      "text/plain": [
       "   no  ranking                                        bookname  \\\n",
       "0   1        1  물고기는 존재하지 않는다 :상실, 사랑 그리고 숨어 있는 삶의 질서에 관한 이야기    \n",
       "1   2        2                             지구 끝의 온실 :김초엽 장편소설    \n",
       "2   3        3                              불편한 편의점 :김호연 장편소설    \n",
       "3   4        4                            달러구트 꿈 백화점 :이미예 장편소설   \n",
       "4   5        5                     우리가 빛의 속도로 갈 수 없다면 :김초엽 소설    \n",
       "\n",
       "            authors            publisher  publication_year         isbn13  \n",
       "0  룰루 밀러 지음 ;정지인 옮김                  곰출판              2021  9791189327156  \n",
       "1          지은이: 김초엽  Giant Books(자이언트북스)              2021  9791191824001  \n",
       "2          지은이: 김호연                나무옆의자              2021  9791161571188  \n",
       "3          지은이: 이미예                팩토리나인              2020  9791165341909  \n",
       "4          지은이: 김초엽                   허블              2019  9791190090018  "
      ]
     },
     "execution_count": 12,
     "metadata": {},
     "output_type": "execute_result"
    }
   ],
   "source": [
    "# 2. 특정 열을 선택하여 새 데이터프레임 생성 - 컬럼 인덱싱 이용\n",
    "books_df.columns\n",
    "books = books_df[['no','ranking','bookname','authors','publisher','publication_year','isbn13']]\n",
    "books.head()"
   ]
  },
  {
   "cell_type": "code",
   "execution_count": null,
   "id": "b9bcb956",
   "metadata": {
    "colab": {
     "base_uri": "https://localhost:8080/",
     "height": 206
    },
    "id": "b9bcb956",
    "outputId": "174cdb65-354e-48c3-e99d-cd694897af80"
   },
   "outputs": [],
   "source": [
    "# method) 원하는 데이터프레임 행과 열 동시에 슬라이싱으로 선택하기 - df.loc[:,:]\n",
    "books = books_df.loc[:, 'no':'isbn13']\n",
    "books.head()"
   ]
  },
  {
   "cell_type": "markdown",
   "id": "ff775d45-1f20-4e62-a86f-66bfe30a0bb4",
   "metadata": {},
   "source": [
    "## 3. 추가 데이터 수집: 각 도서별 페이지수 찾기  \n",
    "    *  HTML에서 데이터 추출하기 - BeautifulSoup\n",
    "    1. 크롬 브라우저 개발자 도구로 HTML 태그 찾기\n",
    "    2. 태그 위치 찾기 : soup.find('찾을 태그 이름',attrs={'태그 속성을 딕셔너리로 지정'} \n",
    "    3. soup.select()\n",
    "    "
   ]
  },
  {
   "cell_type": "markdown",
   "id": "e8b139b1-c72c-4553-ae65-92c8574ce8e6",
   "metadata": {},
   "source": [
    "### [문제1] BeautifulSoup으로 HTML에서 첫 번째 도서명의 링크 주소 찾기\n",
    "* 타겟 웹페이지 : https://www.yes24.com/Product/Search?query=9791189327156 # '물고기는 존재하지 않는다'의 ISBN"
   ]
  },
  {
   "cell_type": "code",
   "execution_count": 13,
   "id": "077d748b",
   "metadata": {
    "id": "077d748b"
   },
   "outputs": [],
   "source": [
    "from bs4 import BeautifulSoup\n",
    "import requests"
   ]
  },
  {
   "cell_type": "code",
   "execution_count": 16,
   "id": "579a0854",
   "metadata": {
    "id": "579a0854"
   },
   "outputs": [
    {
     "name": "stdout",
     "output_type": "stream",
     "text": [
      "<a class=\"gd_name\" href=\"/Product/Goods/105526047\" onclick=\"wiseLogV2('S', '101_005_003_001', ''); setGoodsClickExtraCodeHub('032', '9791189327156', '105526047', '0');\">물고기는 존재하지 않는다</a>\n",
      "\n",
      "/Product/Goods/105526047\n"
     ]
    }
   ],
   "source": [
    "isbn = 9791189327156\n",
    "# 1. targt url\n",
    "url = 'https://www.yes24.com/Product/Search?query={}'\n",
    "url = url.format(isbn)\n",
    "r = requests.get(url)\n",
    "# 2. response message -> soup object\n",
    "soup = BeautifulSoup(r.text, 'html.parser')\n",
    "prd_link = soup.find('a', attrs={'class':'gd_name'})\n",
    "print(prd_link)\n",
    "print()\n",
    "print(prd_link['href'])"
   ]
  },
  {
   "cell_type": "markdown",
   "id": "54f7ad41-fe01-4d3c-876b-13c85ec6a840",
   "metadata": {},
   "source": [
    "### [문제2] BeautifulSoup으로 HTML에서 첫 번째 도서의 페이지수가 담긴 HTML의 위치 찾기\n",
    "* 타겟 웹페이지 : https://www.yes24.com/Product/Goods/105526047\n",
    "* soup.select()"
   ]
  },
  {
   "cell_type": "code",
   "execution_count": 21,
   "id": "27-HqVCH3wBP",
   "metadata": {
    "colab": {
     "base_uri": "https://localhost:8080/"
    },
    "id": "27-HqVCH3wBP",
    "outputId": "a80c2396-08b3-49bd-ba6f-06f096bc4f9d"
   },
   "outputs": [
    {
     "name": "stdout",
     "output_type": "stream",
     "text": [
      "300쪽 \n"
     ]
    }
   ],
   "source": [
    "# soup.select()\n",
    "url = 'https://www.yes24.com/Product/Goods/105526047'\n",
    "r= requests.get(url)\n",
    "soup = BeautifulSoup(r.text, 'html.parser')\n",
    "prd_detail= soup.select('#infoset_specific > div.infoSetCont_wrap > div > table > tbody > tr:nth-child(2) > td')\n",
    "# print(prd_detail) # list\n",
    "\n",
    "if prd_detail is not None:\n",
    "    # print(prd_detail[0].text.split('|'))\n",
    "    page = prd_detail[0].text.split('|')[0]\n",
    "    print(page)\n",
    "else:\n",
    "    print(\"The element you're trying to select doesn't exist.\")\n"
   ]
  },
  {
   "cell_type": "markdown",
   "id": "880d52a6",
   "metadata": {
    "id": "880d52a6"
   },
   "source": [
    "### [문제3]  20대가 선호하는 전체 도서의 쪽수 구하여 Series 만들기"
   ]
  },
  {
   "cell_type": "code",
   "execution_count": 22,
   "id": "d267046f",
   "metadata": {
    "id": "d267046f"
   },
   "outputs": [],
   "source": [
    "#1. 사용자 정의 함수 : isbn을 전달받아 해당 도서의 페이지 수 반환하기\n",
    "def get_page_cnt(isbn):\n",
    "    # 1. Yes24 도서 검색 페이지 URL에 ISBN을 넣어 HTML 가져오기.\n",
    "    url = 'https://www.yes24.com/Product/Search?query={}'\n",
    "    r = requests.get(url.format(isbn))\n",
    "    #2. soup 객체로 변환\n",
    "    soup = BeautifulSoup(r.text, 'html.parser')   \n",
    "    # 3.검색 결과에서 해당 도서를 선택하기.\n",
    "    prd_info = soup.find('a', attrs={'class':'gd_name'})\n",
    "    if prd_info == None:\n",
    "        return ''\n",
    "    # 4. 도서 상세 페이지를 가져오기.\n",
    "    url = 'http://www.yes24.com'+prd_info['href']\n",
    "    r = requests.get(url)\n",
    "    soup = BeautifulSoup(r.text, 'html.parser')\n",
    "    \n",
    "    # 5. 쪽수가 들어 있는 td를 찾기.\n",
    "    prd_detail= soup.select('#infoset_specific > div.infoSetCont_wrap > div > table > tbody > tr:nth-child(2) > td')\n",
    "    print(prd_detail)\n",
    "    # 6. 페이지 수 추출하기\n",
    "    result = prd_detail[0]\n",
    "    page = result.text.split('|')[0]\n",
    "    return page\n",
    "\n",
    "# 2. 사용자 정의 함수 - 데이터프레임 데이터 도서의 쪽수를 한번에 반환하기\n",
    "def get_multiple_page_cnt(row):\n",
    "    isbn = row['isbn13']\n",
    "    return get_page_cnt(isbn)"
   ]
  },
  {
   "cell_type": "code",
   "execution_count": 23,
   "id": "17307451-a3cc-42fa-9a8a-ab8062dd8e64",
   "metadata": {},
   "outputs": [
    {
     "name": "stdout",
     "output_type": "stream",
     "text": [
      "[<td class=\"txt lastCol\">300쪽 | 480g | 135*210*20mm</td>]\n"
     ]
    },
    {
     "data": {
      "text/plain": [
       "'300쪽 '"
      ]
     },
     "execution_count": 23,
     "metadata": {},
     "output_type": "execute_result"
    }
   ],
   "source": [
    "# 테스트 : 함수 호출\n",
    "get_page_cnt(9791189327156)"
   ]
  },
  {
   "cell_type": "code",
   "execution_count": 27,
   "id": "da739a0a",
   "metadata": {
    "id": "da739a0a"
   },
   "outputs": [
    {
     "name": "stdout",
     "output_type": "stream",
     "text": [
      "[<td class=\"txt lastCol\">300쪽 | 480g | 135*210*20mm</td>]\n",
      "[<td class=\"txt lastCol\">392쪽 | 420g | 130*187*20mm</td>]\n",
      "[<td class=\"txt lastCol\">268쪽 | 332g | 135*200*20mm</td>]\n",
      "[<td class=\"txt lastCol\">300쪽 | 358g | 134*200*20mm</td>]\n",
      "[<td class=\"txt lastCol\">\n",
      "                                    양장\n",
      "                                    <a class=\"bgYUI ico_comm ico_help\" href=\"javascript:void(0);\" onclick=\"$.yesPop('dPop_binding',this,{cock:true,mask:false,pWidth:640,ajaxURL : '/Product/Goods/Popup?id=dPop_bookBindingMethodInfo'});\" title=\"도서 제본방식 안내\">도서 제본방식 안내</a>\n",
      "</td>]\n",
      "[<td class=\"txt lastCol\">340쪽 | 412g | 133*200*23mm</td>]\n",
      "[<td class=\"txt lastCol\">336쪽 | 360g | 128*188*16mm</td>]\n",
      "[<td class=\"txt lastCol\">344쪽 | 478g | 145*210*21mm</td>]\n",
      "[<td class=\"txt lastCol\">376쪽 | 434g | 130*198*25mm</td>]\n",
      "[<td class=\"txt lastCol\">165쪽 | 152g | 100*182*20mm</td>]\n",
      "\n",
      "<class 'pandas.core.series.Series'>\n"
     ]
    }
   ],
   "source": [
    "# 테스트 : 함수 호출\n",
    "## 인기 도서 10권 추출 - 데이터프레임\n",
    "top10_books = books.head(10) \n",
    "# top10_books\n",
    "# 각 행의 반복 작업을 수행하기 위해 데이터프레임의 apply()메서드 적용(!!!!)\n",
    "page_count = top10_books.apply(get_multiple_page_cnt, axis = 1)\n",
    "print()\n",
    "page_count\n",
    "print(type(page_count))\n",
    "# 전체 도서에 적용하면 ConnectionError 발생 가능\n",
    "# page_count = books.apply(get_multiple_page_cnt, axis = 1)"
   ]
  },
  {
   "cell_type": "code",
   "execution_count": 28,
   "id": "238aa768-ce0e-4c5e-81f0-4fe8457f747b",
   "metadata": {},
   "outputs": [
    {
     "name": "stdout",
     "output_type": "stream",
     "text": [
      "[<td class=\"txt lastCol\">300쪽 | 480g | 135*210*20mm</td>]\n",
      "[<td class=\"txt lastCol\">392쪽 | 420g | 130*187*20mm</td>]\n",
      "[<td class=\"txt lastCol\">268쪽 | 332g | 135*200*20mm</td>]\n",
      "[<td class=\"txt lastCol\">300쪽 | 358g | 134*200*20mm</td>]\n",
      "[<td class=\"txt lastCol\">\n",
      "                                    양장\n",
      "                                    <a class=\"bgYUI ico_comm ico_help\" href=\"javascript:void(0);\" onclick=\"$.yesPop('dPop_binding',this,{cock:true,mask:false,pWidth:640,ajaxURL : '/Product/Goods/Popup?id=dPop_bookBindingMethodInfo'});\" title=\"도서 제본방식 안내\">도서 제본방식 안내</a>\n",
      "</td>]\n",
      "[<td class=\"txt lastCol\">340쪽 | 412g | 133*200*23mm</td>]\n",
      "[<td class=\"txt lastCol\">336쪽 | 360g | 128*188*16mm</td>]\n",
      "[<td class=\"txt lastCol\">344쪽 | 478g | 145*210*21mm</td>]\n",
      "[<td class=\"txt lastCol\">376쪽 | 434g | 130*198*25mm</td>]\n",
      "[<td class=\"txt lastCol\">165쪽 | 152g | 100*182*20mm</td>]\n",
      "0                                                300쪽 \n",
      "1                                                392쪽 \n",
      "2                                                268쪽 \n",
      "3                                                300쪽 \n",
      "4    \\r\\n                                    양장\\r\\n...\n",
      "5                                                340쪽 \n",
      "6                                                336쪽 \n",
      "7                                                344쪽 \n",
      "8                                                376쪽 \n",
      "9                                                165쪽 \n",
      "Name: page_count, dtype: object\n"
     ]
    }
   ],
   "source": [
    "# 쪽수 시리즈 생성\n",
    "page_count = top10_books.apply(get_multiple_page_cnt, axis = 1)\n",
    "\n",
    "type(page_count)\n",
    "page_count.name = 'page_count'\n",
    "print(page_count)"
   ]
  },
  {
   "cell_type": "markdown",
   "id": "e80c33f8-6781-4c3d-9de8-64679d9b7b6b",
   "metadata": {},
   "source": [
    "## 4. 기존 데이터셋과 추가 데이터셋 합치기  \n",
    "* pandas.merge(df, series, left_index= True, rught_index= True)    "
   ]
  },
  {
   "cell_type": "markdown",
   "id": "a016b2f3-cd54-4475-8a9a-5a1a081d96dc",
   "metadata": {},
   "source": [
    "### [문제]  top10_books와 쪽수 시리즈 합치기 "
   ]
  },
  {
   "cell_type": "code",
   "execution_count": 29,
   "id": "7ac45b9f",
   "metadata": {
    "colab": {
     "base_uri": "https://localhost:8080/",
     "height": 363
    },
    "id": "7ac45b9f",
    "outputId": "1fd709eb-9179-4077-b9ac-83016325af89"
   },
   "outputs": [
    {
     "data": {
      "text/html": [
       "<div>\n",
       "<style scoped>\n",
       "    .dataframe tbody tr th:only-of-type {\n",
       "        vertical-align: middle;\n",
       "    }\n",
       "\n",
       "    .dataframe tbody tr th {\n",
       "        vertical-align: top;\n",
       "    }\n",
       "\n",
       "    .dataframe thead th {\n",
       "        text-align: right;\n",
       "    }\n",
       "</style>\n",
       "<table border=\"1\" class=\"dataframe\">\n",
       "  <thead>\n",
       "    <tr style=\"text-align: right;\">\n",
       "      <th></th>\n",
       "      <th>no</th>\n",
       "      <th>ranking</th>\n",
       "      <th>bookname</th>\n",
       "      <th>authors</th>\n",
       "      <th>publisher</th>\n",
       "      <th>publication_year</th>\n",
       "      <th>isbn13</th>\n",
       "      <th>page_count</th>\n",
       "    </tr>\n",
       "  </thead>\n",
       "  <tbody>\n",
       "    <tr>\n",
       "      <th>0</th>\n",
       "      <td>1</td>\n",
       "      <td>1</td>\n",
       "      <td>물고기는 존재하지 않는다 :상실, 사랑 그리고 숨어 있는 삶의 질서에 관한 이야기</td>\n",
       "      <td>룰루 밀러 지음 ;정지인 옮김</td>\n",
       "      <td>곰출판</td>\n",
       "      <td>2021</td>\n",
       "      <td>9791189327156</td>\n",
       "      <td>300쪽</td>\n",
       "    </tr>\n",
       "    <tr>\n",
       "      <th>1</th>\n",
       "      <td>2</td>\n",
       "      <td>2</td>\n",
       "      <td>지구 끝의 온실 :김초엽 장편소설</td>\n",
       "      <td>지은이: 김초엽</td>\n",
       "      <td>Giant Books(자이언트북스)</td>\n",
       "      <td>2021</td>\n",
       "      <td>9791191824001</td>\n",
       "      <td>392쪽</td>\n",
       "    </tr>\n",
       "    <tr>\n",
       "      <th>2</th>\n",
       "      <td>3</td>\n",
       "      <td>3</td>\n",
       "      <td>불편한 편의점 :김호연 장편소설</td>\n",
       "      <td>지은이: 김호연</td>\n",
       "      <td>나무옆의자</td>\n",
       "      <td>2021</td>\n",
       "      <td>9791161571188</td>\n",
       "      <td>268쪽</td>\n",
       "    </tr>\n",
       "    <tr>\n",
       "      <th>3</th>\n",
       "      <td>4</td>\n",
       "      <td>4</td>\n",
       "      <td>달러구트 꿈 백화점 :이미예 장편소설</td>\n",
       "      <td>지은이: 이미예</td>\n",
       "      <td>팩토리나인</td>\n",
       "      <td>2020</td>\n",
       "      <td>9791165341909</td>\n",
       "      <td>300쪽</td>\n",
       "    </tr>\n",
       "    <tr>\n",
       "      <th>4</th>\n",
       "      <td>5</td>\n",
       "      <td>5</td>\n",
       "      <td>우리가 빛의 속도로 갈 수 없다면 :김초엽 소설</td>\n",
       "      <td>지은이: 김초엽</td>\n",
       "      <td>허블</td>\n",
       "      <td>2019</td>\n",
       "      <td>9791190090018</td>\n",
       "      <td>\\r\\n                                    양장\\r\\n...</td>\n",
       "    </tr>\n",
       "    <tr>\n",
       "      <th>5</th>\n",
       "      <td>6</td>\n",
       "      <td>6</td>\n",
       "      <td>시선으로부터, :정세랑 장편소설</td>\n",
       "      <td>지은이: 정세랑</td>\n",
       "      <td>문학동네</td>\n",
       "      <td>2020</td>\n",
       "      <td>9788954672214</td>\n",
       "      <td>340쪽</td>\n",
       "    </tr>\n",
       "    <tr>\n",
       "      <th>6</th>\n",
       "      <td>7</td>\n",
       "      <td>7</td>\n",
       "      <td>홍학의 자리 :정해연 장편소설</td>\n",
       "      <td>지은이: 정해연</td>\n",
       "      <td>문학동네</td>\n",
       "      <td>2021</td>\n",
       "      <td>9788954681155</td>\n",
       "      <td>336쪽</td>\n",
       "    </tr>\n",
       "    <tr>\n",
       "      <th>7</th>\n",
       "      <td>8</td>\n",
       "      <td>8</td>\n",
       "      <td>밝은 밤 :최은영 장편소설</td>\n",
       "      <td>지은이: 최은영</td>\n",
       "      <td>문학동네</td>\n",
       "      <td>2021</td>\n",
       "      <td>9788954681179</td>\n",
       "      <td>344쪽</td>\n",
       "    </tr>\n",
       "    <tr>\n",
       "      <th>8</th>\n",
       "      <td>9</td>\n",
       "      <td>9</td>\n",
       "      <td>천 개의 파랑 :천선란 장편소설</td>\n",
       "      <td>지은이: 천선란</td>\n",
       "      <td>허블</td>\n",
       "      <td>2020</td>\n",
       "      <td>9791190090261</td>\n",
       "      <td>376쪽</td>\n",
       "    </tr>\n",
       "    <tr>\n",
       "      <th>9</th>\n",
       "      <td>10</td>\n",
       "      <td>10</td>\n",
       "      <td>칵테일, 러브, 좀비</td>\n",
       "      <td>지은이: 조예은</td>\n",
       "      <td>안전가옥</td>\n",
       "      <td>2020</td>\n",
       "      <td>9791190174756</td>\n",
       "      <td>165쪽</td>\n",
       "    </tr>\n",
       "  </tbody>\n",
       "</table>\n",
       "</div>"
      ],
      "text/plain": [
       "   no  ranking                                        bookname  \\\n",
       "0   1        1  물고기는 존재하지 않는다 :상실, 사랑 그리고 숨어 있는 삶의 질서에 관한 이야기    \n",
       "1   2        2                             지구 끝의 온실 :김초엽 장편소설    \n",
       "2   3        3                              불편한 편의점 :김호연 장편소설    \n",
       "3   4        4                            달러구트 꿈 백화점 :이미예 장편소설   \n",
       "4   5        5                     우리가 빛의 속도로 갈 수 없다면 :김초엽 소설    \n",
       "5   6        6                              시선으로부터, :정세랑 장편소설    \n",
       "6   7        7                               홍학의 자리 :정해연 장편소설    \n",
       "7   8        8                                 밝은 밤 :최은영 장편소설    \n",
       "8   9        9                              천 개의 파랑 :천선란 장편소설    \n",
       "9  10       10                                    칵테일, 러브, 좀비    \n",
       "\n",
       "            authors            publisher  publication_year         isbn13  \\\n",
       "0  룰루 밀러 지음 ;정지인 옮김                  곰출판              2021  9791189327156   \n",
       "1          지은이: 김초엽  Giant Books(자이언트북스)              2021  9791191824001   \n",
       "2          지은이: 김호연                나무옆의자              2021  9791161571188   \n",
       "3          지은이: 이미예                팩토리나인              2020  9791165341909   \n",
       "4          지은이: 김초엽                   허블              2019  9791190090018   \n",
       "5          지은이: 정세랑                 문학동네              2020  9788954672214   \n",
       "6          지은이: 정해연                 문학동네              2021  9788954681155   \n",
       "7          지은이: 최은영                 문학동네              2021  9788954681179   \n",
       "8          지은이: 천선란                   허블              2020  9791190090261   \n",
       "9          지은이: 조예은                 안전가옥              2020  9791190174756   \n",
       "\n",
       "                                          page_count  \n",
       "0                                              300쪽   \n",
       "1                                              392쪽   \n",
       "2                                              268쪽   \n",
       "3                                              300쪽   \n",
       "4  \\r\\n                                    양장\\r\\n...  \n",
       "5                                              340쪽   \n",
       "6                                              336쪽   \n",
       "7                                              344쪽   \n",
       "8                                              376쪽   \n",
       "9                                              165쪽   "
      ]
     },
     "execution_count": 29,
     "metadata": {},
     "output_type": "execute_result"
    }
   ],
   "source": [
    "# 데이터프레임과 시리즈 합치기\n",
    "top10_with_page_count = pd.merge(top10_books, page_count,\n",
    "                                 left_index=True, right_index=True)\n",
    "top10_with_page_count"
   ]
  },
  {
   "cell_type": "markdown",
   "id": "8s0l24QgYL17",
   "metadata": {
    "id": "8s0l24QgYL17"
   },
   "source": [
    "## [연습] merge() 함수의 매개변수 이해하기"
   ]
  },
  {
   "cell_type": "code",
   "execution_count": null,
   "id": "J-0XefxwYLeN",
   "metadata": {
    "colab": {
     "base_uri": "https://localhost:8080/",
     "height": 143
    },
    "id": "J-0XefxwYLeN",
    "outputId": "c8e11217-f9f3-4ae9-cbf9-3fd58212820b"
   },
   "outputs": [],
   "source": [
    "df1 = pd.DataFrame({'col1': ['a','b','c'], 'col2': [1,2,3]})\n",
    "df1"
   ]
  },
  {
   "cell_type": "code",
   "execution_count": null,
   "id": "dcVtBloUYaF9",
   "metadata": {
    "colab": {
     "base_uri": "https://localhost:8080/",
     "height": 143
    },
    "id": "dcVtBloUYaF9",
    "outputId": "a62b75e0-ff7b-400d-913a-5875396285d0"
   },
   "outputs": [],
   "source": [
    "df2 = pd.DataFrame({'col1': ['a','b','d'], 'col3': [10,20,30]})\n",
    "df2"
   ]
  },
  {
   "cell_type": "code",
   "execution_count": null,
   "id": "byJy-hZUY2wT",
   "metadata": {
    "colab": {
     "base_uri": "https://localhost:8080/",
     "height": 112
    },
    "id": "byJy-hZUY2wT",
    "outputId": "7d465798-17de-4657-9b33-b647af85869e"
   },
   "outputs": [],
   "source": [
    "#df1.merge(df2, on = 'col1')"
   ]
  },
  {
   "cell_type": "code",
   "execution_count": null,
   "id": "0ec8fa22-bf53-48c9-8faa-a4241e48be50",
   "metadata": {},
   "outputs": [],
   "source": [
    "pd.merge(df1, df2, on='col1')\n"
   ]
  },
  {
   "cell_type": "code",
   "execution_count": null,
   "id": "3iFR29aJY6rp",
   "metadata": {
    "colab": {
     "base_uri": "https://localhost:8080/",
     "height": 143
    },
    "id": "3iFR29aJY6rp",
    "outputId": "1d1cd0d2-42bd-47ff-f0aa-90dff0cf2764"
   },
   "outputs": [],
   "source": [
    "pd.merge(df1, df2, how='left', on='col1')"
   ]
  },
  {
   "cell_type": "code",
   "execution_count": null,
   "id": "L02Mt5CvY_gJ",
   "metadata": {
    "colab": {
     "base_uri": "https://localhost:8080/",
     "height": 143
    },
    "id": "L02Mt5CvY_gJ",
    "outputId": "99f2f79f-b200-4b93-b8e5-e94b781c00d4"
   },
   "outputs": [],
   "source": [
    "pd.merge(df1, df2, how='right', on='col1')"
   ]
  },
  {
   "cell_type": "code",
   "execution_count": null,
   "id": "JWnkHNCUZDw7",
   "metadata": {
    "colab": {
     "base_uri": "https://localhost:8080/",
     "height": 175
    },
    "id": "JWnkHNCUZDw7",
    "outputId": "7f0d0269-f8ae-4cab-bf7b-9d8340232409"
   },
   "outputs": [],
   "source": [
    "pd.merge(df1, df2, how='outer', on='col1')"
   ]
  },
  {
   "cell_type": "code",
   "execution_count": null,
   "id": "4tWD1a58ZGrx",
   "metadata": {
    "colab": {
     "base_uri": "https://localhost:8080/",
     "height": 112
    },
    "id": "4tWD1a58ZGrx",
    "outputId": "942f7888-0de2-49bf-a983-95ba1c9e757e"
   },
   "outputs": [],
   "source": [
    "pd.merge(df1, df2, left_on='col1', right_on='col1')"
   ]
  },
  {
   "cell_type": "code",
   "execution_count": null,
   "id": "CXR4LsHlZfqQ",
   "metadata": {
    "colab": {
     "base_uri": "https://localhost:8080/",
     "height": 112
    },
    "id": "CXR4LsHlZfqQ",
    "outputId": "b21228c6-20d1-4609-bf08-9d5f3e0e1ecf"
   },
   "outputs": [],
   "source": [
    "pd.merge(df1, df2, left_on='col2', right_index=True)"
   ]
  }
 ],
 "metadata": {
  "colab": {
   "provenance": []
  },
  "kernelspec": {
   "display_name": "Python 3 (ipykernel)",
   "language": "python",
   "name": "python3"
  },
  "language_info": {
   "codemirror_mode": {
    "name": "ipython",
    "version": 3
   },
   "file_extension": ".py",
   "mimetype": "text/x-python",
   "name": "python",
   "nbconvert_exporter": "python",
   "pygments_lexer": "ipython3",
   "version": "3.9.13"
  }
 },
 "nbformat": 4,
 "nbformat_minor": 5
}
